{
 "cells": [
  {
   "cell_type": "markdown",
   "id": "c5cbf144",
   "metadata": {},
   "source": [
    "# Problem\n",
    "A string is simply an ordered collection of symbols selected from some alphabet and formed into a word; the length of a string is the number of symbols that it contains.\n",
    "\n",
    "An example of a length 21 DNA string (whose alphabet contains the symbols 'A', 'C', 'G', and 'T') is \"ATGCTTCAGAAAGGTCTTACG.\"\n",
    "\n",
    "Given: A DNA string s of length at most 1000 nt.\n",
    "\n",
    "Return: Four integers (separated by spaces) counting the respective number of times that the symbols 'A', 'C', 'G', and 'T' occur in s."
   ]
  },
  {
   "cell_type": "code",
   "execution_count": 1,
   "id": "4396640f",
   "metadata": {},
   "outputs": [
    {
     "name": "stdout",
     "output_type": "stream",
     "text": [
      "20 12 17 21\n"
     ]
    }
   ],
   "source": [
    "def count_dna_frequency(seq):\n",
    "    dict = {'A': 0,'C': 0,'G':0,'T':0}\n",
    "    for i in seq:\n",
    "        if i in dict:\n",
    "            dict[i] += 1\n",
    "    return dict\n",
    "\n",
    "DNAString=\"AGCTTTTCATTCTGACTGCAACGGGCAATATGTCTCTGTGTGGATTAAAAAAAGAGTGTCTGATAGCAGC\"\n",
    "result = count_dna_frequency(DNAString)\n",
    "print(' '.join([str(val) for key,val in result.items()]))\n"
   ]
  },
  {
   "cell_type": "markdown",
   "id": "8789a584",
   "metadata": {},
   "source": [
    "# Problem\n",
    "An RNA string is a string formed from the alphabet containing 'A', 'C', 'G', and 'U'.\n",
    "\n",
    "Given a DNA string t corresponding to a coding strand, its transcribed RNA string u is formed by replacing all occurrences of 'T' in t with 'U' in u.\n",
    "\n",
    "Given: A DNA string t having length at most 1000 nt.\n",
    "\n",
    "Return: The transcribed RNA string of t."
   ]
  },
  {
   "cell_type": "code",
   "execution_count": 3,
   "id": "3bb03b70",
   "metadata": {},
   "outputs": [
    {
     "data": {
      "text/plain": [
       "'AUCCGAU'"
      ]
     },
     "execution_count": 3,
     "metadata": {},
     "output_type": "execute_result"
    }
   ],
   "source": [
    "def transcribe(dna_seq):\n",
    "    return dna_seq.replace('T','U')\n",
    "\n",
    "transcribe('ATCCGAT')"
   ]
  },
  {
   "cell_type": "code",
   "execution_count": 5,
   "id": "64ddb946",
   "metadata": {},
   "outputs": [
    {
     "data": {
      "text/plain": [
       "[55, 45, 70]"
      ]
     },
     "execution_count": 5,
     "metadata": {},
     "output_type": "execute_result"
    }
   ],
   "source": [
    "def gc_content(seq):\n",
    "    return  (seq.count('G')+seq.count('C'))/ len(seq) * 100\n",
    "gc_content(\"CCACCCTCGTGGTATGGCTAGGCATTCAGGAACCGGAGAACGCTTCAGACCAGCCCGGACTGGGAACCTGCGGGCAGTAGGTGGAAT\")\n",
    "\n",
    "def gc_content_subsec(seq, k=20):\n",
    "        \"\"\"GC Content in a DNA/RNA sub-sequence length k. k=20 by default\"\"\"\n",
    "        res = []\n",
    "        for i in range(0, len(seq) - k + 1, k):\n",
    "            subseq = seq[i:i + k]\n",
    "            res.append(\n",
    "                round((subseq.count('C') + subseq.count('G')) / len(subseq) * 100))\n",
    "        return res\n",
    "gc_content_subsec(\"AAGCCCACACCTGTAAGCACGCCTAAATCTACCCAACCAAACCCAGTCAACCGCCCGGAC\")"
   ]
  },
  {
   "cell_type": "code",
   "execution_count": null,
   "id": "46fb9f0e",
   "metadata": {},
   "outputs": [],
   "source": []
  },
  {
   "cell_type": "markdown",
   "id": "c086444f",
   "metadata": {},
   "source": [
    "# Problem\n",
    "In DNA strings, symbols 'A' and 'T' are complements of each other, as are 'C' and 'G'.\n",
    "\n",
    "The reverse complement of a DNA string s is the string sc formed by reversing the symbols of s, then taking the complement of each symbol (e.g., the reverse complement of \"GTCA\" is \"TGAC\").\n",
    "\n",
    "Given: A DNA string s of length at most 1000 bp.\n",
    "\n",
    "Return: The reverse complement sc of s."
   ]
  },
  {
   "cell_type": "code",
   "execution_count": 3,
   "id": "dc471e60",
   "metadata": {},
   "outputs": [
    {
     "ename": "TypeError",
     "evalue": "'dict' object is not callable",
     "output_type": "error",
     "traceback": [
      "\u001b[1;31m---------------------------------------------------------------------------\u001b[0m",
      "\u001b[1;31mTypeError\u001b[0m                                 Traceback (most recent call last)",
      "\u001b[1;32m<ipython-input-3-0bfcb74dd3de>\u001b[0m in \u001b[0;36m<module>\u001b[1;34m\u001b[0m\n\u001b[0;32m      2\u001b[0m \u001b[1;32mdef\u001b[0m \u001b[0mreverse_compliment\u001b[0m\u001b[1;33m(\u001b[0m\u001b[0ms\u001b[0m\u001b[1;33m)\u001b[0m\u001b[1;33m:\u001b[0m\u001b[1;33m\u001b[0m\u001b[1;33m\u001b[0m\u001b[0m\n\u001b[0;32m      3\u001b[0m     \u001b[1;32mreturn\u001b[0m \u001b[1;34m''\u001b[0m\u001b[1;33m.\u001b[0m\u001b[0mjoin\u001b[0m\u001b[1;33m(\u001b[0m\u001b[1;33m[\u001b[0m\u001b[0mDNA_reverse_complemet\u001b[0m\u001b[1;33m[\u001b[0m\u001b[0mnuc\u001b[0m\u001b[1;33m]\u001b[0m \u001b[1;32mfor\u001b[0m \u001b[0mnuc\u001b[0m \u001b[1;32min\u001b[0m \u001b[0ms\u001b[0m\u001b[1;33m]\u001b[0m\u001b[1;33m)\u001b[0m\u001b[1;33m[\u001b[0m\u001b[1;33m:\u001b[0m\u001b[1;33m:\u001b[0m\u001b[1;33m-\u001b[0m\u001b[1;36m1\u001b[0m\u001b[1;33m]\u001b[0m\u001b[1;33m\u001b[0m\u001b[1;33m\u001b[0m\u001b[0m\n\u001b[1;32m----> 4\u001b[1;33m \u001b[0mDNA_reverse_complemet\u001b[0m\u001b[1;33m(\u001b[0m\u001b[1;34m'GTACCTTCGCCGACTCTGGAAAGCATATCTAGCAGCCACTGTTCTGTTCACGTAAGTCGCGCAGACATGAGGAAGTCTTGAAAAGCTGCGTGAGTCTAGACTAAGGTACTGAGGCCCTGTGTTCTGGTCTAACTAAGGGTTCACCAGAGTCCTGTAACCAGGGCAAGATTGTCATCTCCGTTGTTCCGTGCCTTTATTAAGCTACGTGGCTTATATCACCGCCTTAGTCCTTGTTCGATACGTTAAACTGCCTTACGCTGTTAGTTACTGAAGCCCTATAATAATGTAGCAGGTGCCCAGACCGATCCGTACAACATCAGTGTTATTACAGTCTTTACAGGGTCTCCCTCCGATATAGTTTATTTTTTACTAGTATTTACGCACGTTAATTCCAGGATTCACAGTAGTACGTCGCACTCTATCAGATAAGTTGTCATAATTCTTTCGACGCGAGGCCTGAACAATCGTGGGCCACGACACCCGTCGTCTGCCGTGTAGTAATGAATCCGGGGCACTACTGCGGAAATTGCCGCATGCTTACACTATTGTATACCATTGCTTATCTTGTGCAGCGTGCTAGTTATAGGAAGTAGGGCTCGCTAACGCGCGGTGTCATGCTCTCTTCGGGAAAGCACCGCTAAGGGTACAGCTACTAGACTGGAGCCAAATTCCCACGGATTAAGAGACGTTCAACCTCACACCAGAGCCTGTCGTGTATAACAACTTGCGCTTCAACGTATTGCAGGTAGGACGCATACCTGTCGGAGCAAGCTGTTCATCTGATGATCTGTGGACGTGAGCCCCCGAAGTCTTGATAGTGGCTCATATGTTTATTGGGTAATAACCTCAATTTGAATTCATCAGTCTTACATCTTAACACTATGACCCGGGCCGACCCGTATAACCCCACGCTCGAAAATGGTGAAGTGA'\u001b[0m\u001b[1;33m)\u001b[0m\u001b[1;33m\u001b[0m\u001b[1;33m\u001b[0m\u001b[0m\n\u001b[0m",
      "\u001b[1;31mTypeError\u001b[0m: 'dict' object is not callable"
     ]
    }
   ],
   "source": [
    "DNA_reverse_complemet = { 'A':'T', 'T': 'A','C':'G','G':'C'}\n",
    "def reverse_compliment(s):    \n",
    "    return ''.join([DNA_reverse_complemet[nuc] for nuc in s])[::-1]\n",
    "DNA_reverse_complemet('GTACCTTCGCCGACTCTGGAAAGCATATCTAGCAGCCACTGTTCTGTTCACGTAAGTCGCGCAGACATGAGGAAGTCTTGAAAAGCTGCGTGAGTCTAGACTAAGGTACTGAGGCCCTGTGTTCTGGTCTAACTAAGGGTTCACCAGAGTCCTGTAACCAGGGCAAGATTGTCATCTCCGTTGTTCCGTGCCTTTATTAAGCTACGTGGCTTATATCACCGCCTTAGTCCTTGTTCGATACGTTAAACTGCCTTACGCTGTTAGTTACTGAAGCCCTATAATAATGTAGCAGGTGCCCAGACCGATCCGTACAACATCAGTGTTATTACAGTCTTTACAGGGTCTCCCTCCGATATAGTTTATTTTTTACTAGTATTTACGCACGTTAATTCCAGGATTCACAGTAGTACGTCGCACTCTATCAGATAAGTTGTCATAATTCTTTCGACGCGAGGCCTGAACAATCGTGGGCCACGACACCCGTCGTCTGCCGTGTAGTAATGAATCCGGGGCACTACTGCGGAAATTGCCGCATGCTTACACTATTGTATACCATTGCTTATCTTGTGCAGCGTGCTAGTTATAGGAAGTAGGGCTCGCTAACGCGCGGTGTCATGCTCTCTTCGGGAAAGCACCGCTAAGGGTACAGCTACTAGACTGGAGCCAAATTCCCACGGATTAAGAGACGTTCAACCTCACACCAGAGCCTGTCGTGTATAACAACTTGCGCTTCAACGTATTGCAGGTAGGACGCATACCTGTCGGAGCAAGCTGTTCATCTGATGATCTGTGGACGTGAGCCCCCGAAGTCTTGATAGTGGCTCATATGTTTATTGGGTAATAACCTCAATTTGAATTCATCAGTCTTACATCTTAACACTATGACCCGGGCCGACCCGTATAACCCCACGCTCGAAAATGGTGAAGTGA')"
   ]
  },
  {
   "cell_type": "markdown",
   "id": "180c079c",
   "metadata": {},
   "source": [
    "## Python village"
   ]
  },
  {
   "cell_type": "markdown",
   "id": "52795e55",
   "metadata": {},
   "source": [
    "# Problem\n",
    "Given: Two positive integers a and b, each less than 1000.\n",
    "\n",
    "Return: The integer corresponding to the square of the hypotenuse of the right triangle whose legs have lengths a and b."
   ]
  },
  {
   "cell_type": "code",
   "execution_count": 4,
   "id": "da116927",
   "metadata": {},
   "outputs": [
    {
     "data": {
      "text/plain": [
       "34"
      ]
     },
     "execution_count": 4,
     "metadata": {},
     "output_type": "execute_result"
    }
   ],
   "source": [
    "import math\n",
    "def hypotenuse(a,b):\n",
    "    return a*a + b*b\n",
    "hypotenuse(3, 5)"
   ]
  },
  {
   "cell_type": "markdown",
   "id": "6eaa1fad",
   "metadata": {},
   "source": [
    "# Problem\n",
    "Given: A string s of length at most 200 letters and four integers a, b, c and d.\n",
    "\n",
    "Return: The slice of this string from indices a through b and c through d (with space in between), inclusively. In other words, we should include elements s[b] and s[d] in our slice."
   ]
  },
  {
   "cell_type": "code",
   "execution_count": 5,
   "id": "384f0cb7",
   "metadata": {},
   "outputs": [
    {
     "data": {
      "text/plain": [
       "'Citellus cavirostris'"
      ]
     },
     "execution_count": 5,
     "metadata": {},
     "output_type": "execute_result"
    }
   ],
   "source": [
    "def slice_string(s,a,b,c,d):\n",
    "    word1_start_post = a\n",
    "    word1_end_pos = b +1\n",
    "    word2_start_pos = c\n",
    "    word2_end_pos = d + 1\n",
    "    \n",
    "    x = s[word1_start_post:word1_end_pos]\n",
    "    y = s[word2_start_pos:word2_end_pos]\n",
    "\n",
    "    return f'{x} {y}'\n",
    "slice_string(\"4ugVmEpCtuCitellusspe2FEAdoB3ebUFXTrpeA3b6c1iaqt78DOPNhyaFCaTicg0ajuOFSTOmHN3vv7y6a3jKOxOBMscavirostris5FG4VgAOUuirpUcweXWUxFXuyzauyg6tNbgoW2irR7J4W0MmVMKMclA5FgTIRHhCufZt0UCFY1T3\"\n",
    ",10 ,17 ,92, 102)"
   ]
  },
  {
   "cell_type": "markdown",
   "id": "984dd6ed",
   "metadata": {},
   "source": [
    "Given: Two positive integers a and b (a<b<10000).\n",
    "\n",
    "Return: The sum of all odd integers from a through b, inclusively."
   ]
  },
  {
   "cell_type": "code",
   "execution_count": 6,
   "id": "fbe362f5",
   "metadata": {},
   "outputs": [
    {
     "data": {
      "text/plain": [
       "17880292"
      ]
     },
     "execution_count": 6,
     "metadata": {},
     "output_type": "execute_result"
    }
   ],
   "source": [
    "    \n",
    "def sum(a,b):\n",
    "    result = 0\n",
    "    \n",
    "#     result = sum([x for x in range(a,b+1) if( x%2 != 0)])\n",
    "#     return result\n",
    "    for i in range(a,b+1):\n",
    "        if (i%2 != 0):\n",
    "            result= result + i\n",
    "    return result\n",
    "sum(4896, 9771)"
   ]
  },
  {
   "cell_type": "code",
   "execution_count": null,
   "id": "e0e8c385",
   "metadata": {},
   "outputs": [],
   "source": []
  },
  {
   "cell_type": "code",
   "execution_count": null,
   "id": "37acec54",
   "metadata": {},
   "outputs": [],
   "source": []
  },
  {
   "cell_type": "code",
   "execution_count": null,
   "id": "5964d15b",
   "metadata": {},
   "outputs": [],
   "source": []
  }
 ],
 "metadata": {
  "kernelspec": {
   "display_name": "Python 3",
   "language": "python",
   "name": "python3"
  },
  "language_info": {
   "codemirror_mode": {
    "name": "ipython",
    "version": 3
   },
   "file_extension": ".py",
   "mimetype": "text/x-python",
   "name": "python",
   "nbconvert_exporter": "python",
   "pygments_lexer": "ipython3",
   "version": "3.8.8"
  }
 },
 "nbformat": 4,
 "nbformat_minor": 5
}
